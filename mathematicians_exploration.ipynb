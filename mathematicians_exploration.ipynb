{
 "cells": [
  {
   "cell_type": "code",
   "execution_count": 1,
   "id": "8bec3812",
   "metadata": {},
   "outputs": [],
   "source": [
    "import openai\n",
    "from openai import OpenAI\n",
    "\n",
    "import networkx\n",
    "from networkx.algorithms.community import k_clique_communities\n",
    "import networkx.algorithms.approximation as approximation\n",
    "\n",
    "import numpy\n",
    "from scipy import stats\n",
    "import pandas\n",
    "\n",
    "import matplotlib\n",
    "import matplotlib.pyplot\n",
    "import matplotlib.animation as animation\n",
    "import matplotlib.patches as patches\n",
    "import seaborn\n",
    "import plotly.graph_objects as go\n",
    "\n",
    "import os.path\n",
    "import datetime\n",
    "import re\n",
    "import json\n",
    "import random"
   ]
  },
  {
   "cell_type": "code",
   "execution_count": 3,
   "id": "df207955",
   "metadata": {},
   "outputs": [],
   "source": [
    "parsed_data_folder = 'parsed-data'\n",
    "gpt_key = \"\"\n",
    "with open(\"../gpt-key\", 'r') as file:\n",
    "    gpt_key = file.read()\n",
    "openai_assistant = \"asst_vEl67u700hgUlBWHUAw9ApzV\""
   ]
  },
  {
   "cell_type": "code",
   "execution_count": 4,
   "id": "5c0e7dd0",
   "metadata": {},
   "outputs": [
    {
     "name": "stdout",
     "output_type": "stream",
     "text": [
      "Thread(id='thread_CQ0H7fceDynRdjpQnzOgfkkf', created_at=1731272939, metadata={}, object='thread', tool_resources=ToolResources(code_interpreter=None, file_search=None))\n"
     ]
    }
   ],
   "source": [
    "client = OpenAI(api_key=gpt_key)\n",
    "thread = client.beta.threads.create()\n",
    "assistant_content = \"You're a helpful mathematics history tutor. Your answers are short and strictly follow instructions. For questions you answer shortly and to the point, preferring lists and few words over elaborate answers.\"\n",
    "print(thread)"
   ]
  },
  {
   "cell_type": "code",
   "execution_count": 5,
   "id": "3465c131",
   "metadata": {},
   "outputs": [],
   "source": [
    "centuries_list = list(range(-10, 22))\n",
    "\n",
    "formatted_centuries = [\n",
    "    f\"{abs(c)}{' BC' if c < 0 else ' AD'}\" for c in centuries_list\n",
    "]"
   ]
  },
  {
   "cell_type": "code",
   "execution_count": 6,
   "id": "3a8391f2",
   "metadata": {},
   "outputs": [],
   "source": [
    "summarise_data_flag = True # to control for accidental triggering\n",
    "\n",
    "mathematicians_per_century = {}\n",
    "\n",
    "if summarise_data_flag:\n",
    "    for century in formatted_centuries:\n",
    "        response = client.chat.completions.create(\n",
    "            model=\"gpt-4o-mini\",\n",
    "            messages=[\n",
    "                {\"role\": \"system\", \"content\": assistant_content},\n",
    "                {\"role\": \"user\", \"content\": f\"List all famous mathematicians of {century} century\"}\n",
    "            ]\n",
    "        )\n",
    "        response_message = response.choices[0].message.content.strip()\n",
    "\n",
    "        mathematicians_per_century[century] = response_message"
   ]
  },
  {
   "cell_type": "code",
   "execution_count": 7,
   "id": "e6c887ca",
   "metadata": {},
   "outputs": [],
   "source": [
    "out_file = open(f\"{parsed_data_folder}/mathematicians_per_century.json\", \"w\")\n",
    "json.dump(mathematicians_per_century, out_file)\n",
    "out_file.close()"
   ]
  },
  {
   "cell_type": "code",
   "execution_count": null,
   "id": "62cc4993",
   "metadata": {},
   "outputs": [],
   "source": []
  }
 ],
 "metadata": {
  "kernelspec": {
   "display_name": "Python 3 (ipykernel)",
   "language": "python",
   "name": "python3"
  },
  "language_info": {
   "codemirror_mode": {
    "name": "ipython",
    "version": 3
   },
   "file_extension": ".py",
   "mimetype": "text/x-python",
   "name": "python",
   "nbconvert_exporter": "python",
   "pygments_lexer": "ipython3",
   "version": "3.11.1"
  }
 },
 "nbformat": 4,
 "nbformat_minor": 5
}
