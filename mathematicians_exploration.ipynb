{
 "cells": [
  {
   "cell_type": "code",
   "execution_count": 1,
   "id": "8bec3812",
   "metadata": {},
   "outputs": [],
   "source": [
    "import openai\n",
    "from openai import OpenAI\n",
    "\n",
    "import networkx\n",
    "from networkx.algorithms.community import k_clique_communities\n",
    "import networkx.algorithms.approximation as approximation\n",
    "\n",
    "import numpy\n",
    "from scipy import stats\n",
    "import pandas\n",
    "\n",
    "import matplotlib\n",
    "import matplotlib.pyplot\n",
    "import matplotlib.animation as animation\n",
    "import matplotlib.patches as patches\n",
    "import seaborn\n",
    "import plotly.graph_objects as go\n",
    "\n",
    "import os.path\n",
    "import datetime\n",
    "import re\n",
    "import json\n",
    "import random"
   ]
  },
  {
   "cell_type": "code",
   "execution_count": 3,
   "id": "df207955",
   "metadata": {},
   "outputs": [],
   "source": [
    "parsed_data_folder = 'parsed-data'\n",
    "gpt_key = \"\"\n",
    "with open(\"../gpt-key\", 'r') as file:\n",
    "    gpt_key = file.read()\n",
    "openai_assistant = \"asst_vEl67u700hgUlBWHUAw9ApzV\""
   ]
  },
  {
   "cell_type": "code",
   "execution_count": 4,
   "id": "5c0e7dd0",
   "metadata": {},
   "outputs": [
    {
     "name": "stdout",
     "output_type": "stream",
     "text": [
      "Thread(id='thread_CQ0H7fceDynRdjpQnzOgfkkf', created_at=1731272939, metadata={}, object='thread', tool_resources=ToolResources(code_interpreter=None, file_search=None))\n"
     ]
    }
   ],
   "source": [
    "client = OpenAI(api_key=gpt_key)\n",
    "thread = client.beta.threads.create()\n",
    "assistant_content = \"You're a helpful mathematics history tutor. Your answers are short and strictly follow instructions. For questions you answer shortly and to the point, preferring lists and few words over elaborate answers.\"\n",
    "print(thread)"
   ]
  },
  {
   "cell_type": "code",
   "execution_count": 5,
   "id": "9f8f24bd",
   "metadata": {},
   "outputs": [],
   "source": [
    "centuries_list = list(range(-10, 22))\n",
    "\n",
    "formatted_centuries = [\n",
    "    f\"{abs(c)}{' BC' if c < 0 else ' AD'}\" for c in centuries_list\n",
    "]"
   ]
  },
  {
   "cell_type": "code",
   "execution_count": 6,
   "id": "3a8391f2",
   "metadata": {},
   "outputs": [],
   "source": [
    "list_mathematicians_flag = False # to control for accidental triggering\n",
    "\n",
    "mathematicians_per_century = {}\n",
    "\n",
    "if list_mathematicians_flag:\n",
    "    for century in formatted_centuries:\n",
    "        response = client.chat.completions.create(\n",
    "            model=\"gpt-4o-mini\",\n",
    "            messages=[\n",
    "                {\"role\": \"system\", \"content\": assistant_content},\n",
    "                {\"role\": \"user\", \"content\": f\"List all famous mathematicians of {century} century\"}\n",
    "            ]\n",
    "        )\n",
    "        response_message = response.choices[0].message.content.strip()\n",
    "\n",
    "        mathematicians_per_century[century] = response_message"
   ]
  },
  {
   "cell_type": "code",
   "execution_count": 7,
   "id": "a48171e8",
   "metadata": {},
   "outputs": [],
   "source": [
    "out_file = open(f\"{parsed_data_folder}/mathematicians_per_century.json\", \"w\")\n",
    "json.dump(mathematicians_per_century, out_file)\n",
    "out_file.close()"
   ]
  },
  {
   "cell_type": "code",
   "execution_count": 8,
   "id": "1cd1e5e6",
   "metadata": {},
   "outputs": [],
   "source": [
    "mathematicians_curated_dict = {\n",
    "    \"Pythagoras\": \"c. 570–495 BC\",\n",
    "    \"Euclid\": \"c. 300 BC\",\n",
    "    \"Thales of Miletus\": \"c. 624–546 BC\",\n",
    "    \"Anaximander\": \"c. 610–546 BC\",\n",
    "    \"Anaximenes\": \"c. 586–526 BC\",\n",
    "    \"Zeno of Elea\": \"c. 490–430 BC\",\n",
    "    \"Anaxagoras\": \"c. 500–428 BC\",\n",
    "    \"Archimedes\": \"c. 287–212 BC\",\n",
    "    \"Apollonius of Perga\": \"c. 262–190 BC\",\n",
    "    \"Eratosthenes\": \"c. 276–194 BC\",\n",
    "    \"Hipparchus\": \"c. 190–120 BC\",\n",
    "    \"Ptolemy\": \"c. 100–170 AD\",\n",
    "    \"Heron of Alexandria\": \"c. 10–70 AD\",\n",
    "    \"Menelaus of Alexandria\": \"c. 70–140 AD\",\n",
    "    \"Diophantus\": \"c. 200–284 AD\",\n",
    "    \"Hypatia of Alexandria\": \"c. 360–415 AD\",\n",
    "    \"Hero of Alexandria\": \"c. 10–70 AD\",\n",
    "    \"Simplicius\": \"c. 490–560 AD\",\n",
    "    \"Proclus\": \"412–485 AD\",\n",
    "    \"Aryabhata\": \"476–550 AD\",\n",
    "    \"Brahmagupta\": \"598–668 AD\",\n",
    "    \"Xuanzang\": \"602–664 AD\",\n",
    "    \"Al-Khwarizmi\": \"c. 780–850 AD\",\n",
    "    \"Omar Khayyam\": \"1048–1131 AD\",\n",
    "    \"Thabit ibn Qurra\": \"826–901 AD\",\n",
    "    \"Al-Battani\": \"c. 858–929 AD\",\n",
    "    \"Ibn al-Haytham\": \"c. 965–1040 AD\",\n",
    "    \"Al-Biruni\": \"973–1048 AD\",\n",
    "    \"Fibonacci\": \"c. 1170–1250 AD\",\n",
    "    \"Ibn Sina\": \"980–1037 AD\",\n",
    "    \"Al-Farabi\": \"c. 872–950 AD\",\n",
    "    \"Nasir al-Din al-Tusi\": \"1201–1274 AD\",\n",
    "    \"Wang Xizhi\": \"303–361 AD\",\n",
    "    \"Nicole Oresme\": \"c. 1320–1382 AD\",\n",
    "    \"Johannes Gutenberg\": \"c. 1400–1468 AD\",\n",
    "    \"Madhava of Sangamagrama\": \"c. 1350–1425 AD\",\n",
    "    \"Zhu Shijie\": \"c. 1260–1320 AD\",\n",
    "    \"Nicolaus Copernicus\": \"1473–1543 AD\",\n",
    "    \"Regiomontanus\": \"1436–1476 AD\",\n",
    "    \"Girolamo Cardano\": \"1501–1576 AD\",\n",
    "    \"John Napier\": \"1550–1617 AD\",\n",
    "    \"Johannes Kepler\": \"1571–1630 AD\",\n",
    "    \"Tycho Brahe\": \"1546–1601 AD\",\n",
    "    \"Simon Stevin\": \"1548–1620 AD\",\n",
    "    \"Galileo Galilei\": \"1564–1642 AD\",\n",
    "    \"François Viète\": \"1540–1603 AD\",\n",
    "    \"René Descartes\": \"1596–1650 AD\",\n",
    "    \"Isaac Barrow\": \"1630–1677 AD\",\n",
    "    \"Pierre de Fermat\": \"1607–1665 AD\",\n",
    "    \"Blaise Pascal\": \"1623–1662 AD\",\n",
    "    \"Christiaan Huygens\": \"1629–1695 AD\",\n",
    "    \"John Wallis\": \"1616–1703 AD\",\n",
    "    \"Gottfried Wilhelm Leibniz\": \"1646–1716 AD\",\n",
    "    \"Isaac Newton\": \"1643–1727 AD\",\n",
    "    \"Leonhard Euler\": \"1707–1783 AD\",\n",
    "    \"Joseph-Louis Lagrange\": \"1736–1813 AD\",\n",
    "    \"Pierre-Simon Laplace\": \"1749–1827 AD\",\n",
    "    \"Carl Friedrich Gauss\": \"1777–1855 AD\",\n",
    "    \"Henri Poincaré\": \"1854–1912 AD\",\n",
    "    \"Augustin-Louis Cauchy\": \"1789–1857 AD\",\n",
    "    \"Adrien-Marie Legendre\": \"1752–1833 AD\",\n",
    "    \"Bernhard Riemann\": \"1826–1866 AD\",\n",
    "    \"Évariste Galois\": \"1811–1832 AD\",\n",
    "    \"Niels Henrik Abel\": \"1802–1829 AD\",\n",
    "    \"George Boole\": \"1815–1864 AD\",\n",
    "    \"David Hilbert\": \"1862–1943 AD\",\n",
    "    \"Felix Klein\": \"1849–1925 AD\",\n",
    "    \"Ada Lovelace\": \"1815–1852 AD\",\n",
    "    \"Kurt Gödel\": \"1906–1978 AD\",\n",
    "    \"John von Neumann\": \"1903–1957 AD\",\n",
    "    \"André Weil\": \"1906–1998 AD\",\n",
    "    \"Paul Erdős\": \"1913–1996 AD\",\n",
    "    \"Alexander Grothendieck\": \"1928–2014 AD\",\n",
    "    \"Emmy Noether\": \"1882–1935 AD\",\n",
    "    \"Alan Turing\": \"1912–1954 AD\",\n",
    "    \"John Nash\": \"1928–2015 AD\",\n",
    "    \"Benoît Mandelbrot\": \"1924–2010 AD\",\n",
    "    \"Andrew Wiles\": \"1953–present\",\n",
    "    \"Terence Tao\": \"1975–present\",\n",
    "    \"John Clay\": \"unknown\",\n",
    "    \"Maryam Mirzakhani\": \"1977–2017 AD\",\n",
    "    \"Manjul Bhargava\": \"1974–present\",\n",
    "    \"Cédric Villani\": \"1973–present\",\n",
    "    \"Peter Scholze\": \"1987–present\",\n",
    "    \"Jean-Pierre Serre\": \"1926–present\",\n",
    "    \"Mary Cartwright\": \"1900–1998 AD\",\n",
    "    \"Julia Robinson\": \"1919–1985 AD\",\n",
    "    \"Paul Dirac\": \"1902–1984 AD\",\n",
    "    \"Émile Picard\": \"1856–1941 AD\",\n",
    "    \"Jacques Hadamard\": \"1865–1963 AD\",\n",
    "    \"Avner Ash\": \"unknown\",\n",
    "    \"Srinivasa Ramanujan\": \"1887–1920 AD\",\n",
    "    \"Sophie Germain\": \"1776–1831 AD\",\n",
    "    \"Joseph Fourier\": \"1768–1830 AD\",\n",
    "    \"Jean Baptiste Joseph Fourier\": \"1768–1830 AD\",\n",
    "    \"Norbert Wiener\": \"1894–1964 AD\",\n",
    "    \"Bertrand Russell\": \"1872–1970 AD\",\n",
    "    \"Andrey Kolmogorov\": \"1903–1987 AD\",\n",
    "    \"Alexander L. Polyakov\": \"1945–present\",\n",
    "    \"Grigori Perelman\": \"1966–present\",\n",
    "    \"John Horton Conway\": \"1937–2020 AD\",\n",
    "    \"Yitang Zhang\": \"1955–present\",\n",
    "    \"Ingrid Daubechies\": \"1954–present\"\n",
    "}"
   ]
  },
  {
   "cell_type": "code",
   "execution_count": 9,
   "id": "b87df0dc",
   "metadata": {},
   "outputs": [
    {
     "name": "stdout",
     "output_type": "stream",
     "text": [
      "Thread(id='thread_vUGJQdu6zLIrmCnXRLATOe1V', created_at=1731274364, metadata={}, object='thread', tool_resources=ToolResources(code_interpreter=None, file_search=None))\n"
     ]
    }
   ],
   "source": [
    "client = OpenAI(api_key=gpt_key)\n",
    "thread = client.beta.threads.create()\n",
    "assistant_content = \"You're a helpful mathematics history tutor. For a mathematician's name received you list his or her works. You provide only a list of works, nothing more.\"\n",
    "print(thread)"
   ]
  },
  {
   "cell_type": "code",
   "execution_count": 12,
   "id": "cf2b1b22",
   "metadata": {},
   "outputs": [],
   "source": [
    "list_works_flag = True # to control for accidental triggering\n",
    "\n",
    "math_works_per_person = {}\n",
    "\n",
    "if list_works_flag:\n",
    "    for mathematician in mathematicians_curated_dict.keys():\n",
    "        response = client.chat.completions.create(\n",
    "            model=\"gpt-4o-mini\",\n",
    "            messages=[\n",
    "                {\"role\": \"system\", \"content\": assistant_content},\n",
    "                {\"role\": \"user\", \"content\": mathematician}\n",
    "            ]\n",
    "        )\n",
    "        response_message = response.choices[0].message.content.strip()\n",
    "\n",
    "        math_works_per_person[mathematician] = response_message"
   ]
  },
  {
   "cell_type": "code",
   "execution_count": 13,
   "id": "8b971892",
   "metadata": {},
   "outputs": [],
   "source": [
    "out_file = open(f\"{parsed_data_folder}/math_works_per_person.json\", \"w\")\n",
    "json.dump(math_works_per_person, out_file)\n",
    "out_file.close()"
   ]
  },
  {
   "cell_type": "code",
   "execution_count": null,
   "id": "c02bed44",
   "metadata": {},
   "outputs": [],
   "source": []
  }
 ],
 "metadata": {
  "kernelspec": {
   "display_name": "Python 3 (ipykernel)",
   "language": "python",
   "name": "python3"
  },
  "language_info": {
   "codemirror_mode": {
    "name": "ipython",
    "version": 3
   },
   "file_extension": ".py",
   "mimetype": "text/x-python",
   "name": "python",
   "nbconvert_exporter": "python",
   "pygments_lexer": "ipython3",
   "version": "3.11.1"
  }
 },
 "nbformat": 4,
 "nbformat_minor": 5
}
